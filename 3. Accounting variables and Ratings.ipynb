{
 "cells": [
  {
   "cell_type": "markdown",
   "metadata": {},
   "source": [
    "# 3. Accounting variables and Ratings\n",
    "<body> <p  style = \"font-family:georgia,garamond,serif;font-size:16px;text-align:justify\"></body>\n"
   ]
  },
  {
   "cell_type": "code",
   "execution_count": 1,
   "metadata": {
    "ExecuteTime": {
     "end_time": "2022-02-11T12:42:49.458407Z",
     "start_time": "2022-02-11T12:42:48.093522Z"
    }
   },
   "outputs": [],
   "source": [
    "import psycopg2 \n",
    "import pandas as pd\n",
    "import numpy as np\n",
    "from sqlalchemy import create_engine\n",
    "import ast"
   ]
  },
  {
   "cell_type": "code",
   "execution_count": 2,
   "metadata": {
    "ExecuteTime": {
     "end_time": "2022-02-11T12:42:49.817672Z",
     "start_time": "2022-02-11T12:42:49.460405Z"
    }
   },
   "outputs": [],
   "source": [
    "# connection to the DB\n",
    "credentials = ast.literal_eval(open(r\"C:\\Users\\pablo\\OneDrive - unizar.es\\Python Investigación\\credentials.txt\", \"r\").read())\n",
    "conn = psycopg2.connect(dbname=\"ESGRefinitiv\", user=credentials['psycopg2'][0], \n",
    "                        password=credentials['psycopg2'][1], host=credentials['psycopg2'][2], port =credentials['psycopg2'][3])\n",
    "cur = conn.cursor()\n",
    "engine = create_engine(credentials['sqlalchemy'][0]+ 'ESGRefinitiv')"
   ]
  },
  {
   "cell_type": "markdown",
   "metadata": {},
   "source": [
    "<body> <p  style = \"font-family:georgia,garamond,serif;font-size:22px;text-align:justify\"></body>\n",
    "<b>b11_company_fiscalyear_rates</b></p>\n",
    "<body> <p  style = \"font-family:georgia,garamond,serif;font-size:16px;text-align:justify\"></body>\n",
    "Yearly average exchange rate considering the fiscal year for each company. For each company we obtain the average exchange rate between the end of the fiscal year(t) and the last fiscal period as t less one year.<br>\n",
    "<b>Tables used:</b><br>\n",
    "yearly_accounting <br>\n",
    "classification_iso_currency <br>\n",
    "exchange_rates <br>\n",
    "companies_esg_refinitiv <br>"
   ]
  },
  {
   "cell_type": "code",
   "execution_count": 3,
   "metadata": {
    "ExecuteTime": {
     "end_time": "2022-02-11T12:44:13.947978Z",
     "start_time": "2022-02-11T12:42:49.821662Z"
    }
   },
   "outputs": [],
   "source": [
    "# B11 B11\n",
    "cur.execute(\"\"\"\n",
    "DROP TABLE IF EXISTS \n",
    "    b11_company_fiscalyear_rates;\n",
    "CREATE TABLE\n",
    "    b11_company_fiscalyear_rates AS\n",
    "SELECT \n",
    "    info.internal_id, EXTRACT(YEAR from cont.yearly_date) as year, cont.end_fiscal_period,  \n",
    "    (cont.end_fiscal_period - interval '1 year' + interval '1 day') AS  start_fiscal_year, document_currency_iso_id, \n",
    "    rate.ds_currency_serie_id, AVG(rate.exchange_rate) AS average_fiscal_exchange_rate \n",
    "FROM\n",
    "    yearly_accounting AS cont \n",
    "    INNER JOIN classification_iso_currency AS iso\n",
    "    ON cont.document_currency_iso_id = iso.currency_iso_id\n",
    "    INNER JOIN exchange_rates AS rate\n",
    "    ON iso.ds_currency_serie_usd_id = rate.ds_currency_serie_id\n",
    "    INNER JOIN companies_esg_refinitiv as info\n",
    "    ON cont.datastream_id = info.datastream_id\n",
    "WHERE \n",
    "    rate.daily_date_id BETWEEN cont.end_fiscal_period - interval '1 year' + interval '1 day' AND  cont.end_fiscal_period  \n",
    "GROUP BY\n",
    "    info.internal_id, EXTRACT(YEAR from cont.yearly_date), cont.end_fiscal_period,  \n",
    "    cont.end_fiscal_period - interval '1 year',  rate.ds_currency_serie_id,\n",
    "    document_currency_iso_id;\n",
    "\"\"\")\n",
    "\n",
    "conn.commit()"
   ]
  },
  {
   "cell_type": "markdown",
   "metadata": {},
   "source": [
    "<body> <p  style = \"font-family:georgia,garamond,serif;font-size:22px;text-align:justify\"></body>\n",
    "<b>b12_accountig_usd</b></p>\n",
    "<body> <p  style = \"font-family:georgia,garamond,serif;font-size:16px;text-align:justify\"></body>\n",
    "Accounting measures in USD based on fiscal year exchanges rates of each company. As explained in the manuscript, we add a column with the year to match the accounting variables with the ESG variables in the next query. <br>\n",
    "<b> Tables used:</b> <br>\n",
    "yearly_accounting<br>\n",
    "companies_esg_refinitiv <br>\n",
    "b11_company_fiscalyear_rates <br>"
   ]
  },
  {
   "cell_type": "code",
   "execution_count": 4,
   "metadata": {
    "ExecuteTime": {
     "end_time": "2022-02-11T12:44:14.782043Z",
     "start_time": "2022-02-11T12:44:13.955976Z"
    }
   },
   "outputs": [],
   "source": [
    "cur.execute(\"\"\"\n",
    "DROP TABLE IF EXISTS \n",
    "    b12_accountig_usd;\n",
    "CREATE TABLE\n",
    "    b12_accountig_usd AS\n",
    "SELECT\n",
    "    rates.internal_id, rates.year, rates.end_fiscal_period, rates.start_fiscal_year, rates.ds_currency_serie_id, \n",
    "    rates.document_currency_iso_id, rates.average_fiscal_exchange_rate, cont.return_on_assets, cont.return_on_equity,\n",
    "    LOG( NULLIF(cont.number_of_employees, 0) )  AS log_employees, \n",
    "    LOG( NULLIF(cont.net_sales * rates.average_fiscal_exchange_rate, 0) ) AS log_net_sales_usd,\n",
    "    LOG( NULLIF(cont.total_assets * rates.average_fiscal_exchange_rate, 0) ) AS log_total_assets_usd, \n",
    "    cont.long_term_debt / NULLIF(cont.total_assets,0) AS long_debt_to_assets,\n",
    "    cont.total_liabilities /  NULLIF(cont.total_assets,0) AS total_liabilities_to_assets,\n",
    "    cont.total_liabilities / NULLIF(cont.common_equity,0)  AS total_liabilities_to_equity,\n",
    "    cont.additions_fixed_assets / NULLIF(cont.total_assets,0) AS additions_fixed_assets_to_assets,\n",
    "    cont.total_assets, cont.total_liabilities, cont.common_equity, cont.net_sales, cont.net_debt, \n",
    "    cont.additions_fixed_assets,\n",
    "CASE EXTRACT(MONTH from cont.end_fiscal_period)\n",
    "    WHEN 12 THEN EXTRACT(YEAR from cont.end_fiscal_period)\n",
    "    ELSE EXTRACT(YEAR from cont.end_fiscal_period) -1\n",
    "    END year_accounting_toscores\n",
    "FROM\n",
    "    yearly_accounting AS cont \n",
    "    INNER JOIN companies_esg_refinitiv AS info\n",
    "    ON info.datastream_id = cont.datastream_id\n",
    "    INNER JOIN b11_company_fiscalyear_rates AS rates\n",
    "    ON info.internal_id = rates.internal_id AND EXTRACT(YEAR from cont.yearly_date) = rates.year\n",
    "WHERE \n",
    "    cont.net_sales >=0\n",
    "\"\"\")\n",
    "conn.commit() "
   ]
  },
  {
   "cell_type": "markdown",
   "metadata": {},
   "source": [
    "<body> <p  style = \"font-family:georgia,garamond,serif;font-size:22px;text-align:justify\"></body>\n",
    "<b>b31_accountig_isp_ssp</b></p>\n",
    "<body> <p  style = \"font-family:georgia,garamond,serif;font-size:16px;text-align:justify\"></body>\n",
    "We join the table with our accounting variables and the table with CSP, SSP, ISP using the same method as Servaes and Tamayo (2013). Tables used: <br>\n",
    "b12_accountig_measures_usd : cont <br>\n",
    "b21_isp_ssp_esg_mv : isp"
   ]
  },
  {
   "cell_type": "code",
   "execution_count": 5,
   "metadata": {
    "ExecuteTime": {
     "end_time": "2022-02-11T12:44:15.919410Z",
     "start_time": "2022-02-11T12:44:14.788006Z"
    }
   },
   "outputs": [],
   "source": [
    "cur.execute(\"\"\"\n",
    "DROP TABLE IF EXISTS \n",
    "    b31_accounting_isp_ssp;\n",
    "CREATE TABLE\n",
    "    b31_accounting_isp_ssp AS\n",
    "SELECT \n",
    "    b21.internal_id, b12.year AS year_accounting, end_fiscal_period, year_accounting_toscores, b21.year as year_score,\n",
    "    b21.industry, b21.sector, document_currency_iso_id, b21.ds_country, \n",
    "    return_on_assets, return_on_equity, log_employees, log_net_sales_usd, log_total_assets_usd, long_debt_to_assets,\n",
    "    total_liabilities_to_assets, total_liabilities_to_equity, additions_fixed_assets_to_assets,    \n",
    "    b21.percent_rank_mv_usd, b21.esg_score_average, b21.environment_pillar_average, b21.social_pillar_average, \n",
    "    b21.governance_pillar_average, b21.overall_inclusive, b21.environmental_inclusive, b21.social_inclusive, \n",
    "    b21.governance_inclusive, b12.total_assets, b12.total_liabilities, b12.common_equity, b12.net_sales, \n",
    "    b12.net_debt, b12.additions_fixed_assets\n",
    "FROM\n",
    "    b12_accountig_usd AS b12\n",
    "    INNER JOIN b21_isp_ssp_esg_mv AS b21 \n",
    "    ON b21.internal_id = b12.internal_id AND b21.year = b12.year_accounting_toscores\n",
    "WHERE\n",
    "    (log_total_assets_usd, log_net_sales_usd, total_liabilities_to_assets, \n",
    "    total_liabilities_to_assets, total_liabilities_to_equity, return_on_assets, return_on_equity) IS NOT NULL\n",
    "    \n",
    "\"\"\")\n",
    "\n",
    "conn.commit()"
   ]
  },
  {
   "cell_type": "markdown",
   "metadata": {},
   "source": [
    "<body> <p  style = \"font-family:georgia,garamond,serif;font-size:22px;text-align:justify\"></body>\n",
    "<b>Winsorized values</b></p>\n",
    "<body> <p  style = \"font-family:georgia,garamond,serif;font-size:16px;text-align:justify\"></body>\n",
    "We winsorize the variables used in the research "
   ]
  },
  {
   "cell_type": "code",
   "execution_count": 6,
   "metadata": {
    "ExecuteTime": {
     "end_time": "2022-02-11T13:25:23.832066Z",
     "start_time": "2022-02-11T12:44:15.926383Z"
    },
    "code_folding": []
   },
   "outputs": [],
   "source": [
    "df_b31 = pd.read_sql('SELECT * FROM b31_accounting_isp_ssp WHERE year_accounting BETWEEN 2010 AND 2019', engine)\n",
    "variables_winsorized= ['return_on_assets', 'return_on_equity', 'total_liabilities_to_assets', 'total_liabilities_to_equity', \n",
    "                      'additions_fixed_assets_to_assets']\n",
    "\n",
    "for var in variables_winsorized:\n",
    "    df_b31[[var]] = df_b31[[var]].apply(lambda x: x.clip(x.quantile(0.025,interpolation='nearest'),\n",
    "                                                  x.quantile(0.975,interpolation='nearest')))\n",
    "\n",
    "df_b31.to_sql('b31_accounting_isp_ssp_winsorized', engine, if_exists='replace', chunksize=100000, index=False)"
   ]
  }
 ],
 "metadata": {
  "hide_input": false,
  "kernelspec": {
   "display_name": "Python 3",
   "language": "python",
   "name": "python3"
  },
  "language_info": {
   "codemirror_mode": {
    "name": "ipython",
    "version": 3
   },
   "file_extension": ".py",
   "mimetype": "text/x-python",
   "name": "python",
   "nbconvert_exporter": "python",
   "pygments_lexer": "ipython3",
   "version": "3.8.0"
  },
  "toc": {
   "base_numbering": 1,
   "nav_menu": {},
   "number_sections": false,
   "sideBar": true,
   "skip_h1_title": false,
   "title_cell": "Table of Contents",
   "title_sidebar": "Contents",
   "toc_cell": false,
   "toc_position": {
    "height": "calc(100% - 180px)",
    "left": "10px",
    "top": "150px",
    "width": "165px"
   },
   "toc_section_display": true,
   "toc_window_display": true
  }
 },
 "nbformat": 4,
 "nbformat_minor": 2
}
