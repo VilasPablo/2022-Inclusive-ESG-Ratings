{
 "cells": [
  {
   "cell_type": "markdown",
   "metadata": {
    "ExecuteTime": {
     "end_time": "2021-04-23T08:50:54.087273Z",
     "start_time": "2021-04-23T08:50:53.395098Z"
    }
   },
   "source": [
    "# 1. Variables for Inclusive Ratings\n",
    "<body> <p  style = \"font-family:georgia,garamond,serif;font-size:16px;text-align:justify\"></body>\n",
    "We obtain the variables needed in equation 1"
   ]
  },
  {
   "cell_type": "code",
   "execution_count": 1,
   "metadata": {
    "ExecuteTime": {
     "end_time": "2022-02-23T08:31:56.494473Z",
     "start_time": "2022-02-23T08:31:55.891668Z"
    }
   },
   "outputs": [],
   "source": [
    "import psycopg2 \n",
    "import pandas as pd\n",
    "from sqlalchemy import create_engine\n",
    "import ast"
   ]
  },
  {
   "cell_type": "code",
   "execution_count": 7,
   "metadata": {
    "ExecuteTime": {
     "end_time": "2022-02-23T10:57:59.605183Z",
     "start_time": "2022-02-23T10:57:59.546112Z"
    },
    "code_folding": []
   },
   "outputs": [],
   "source": [
    "# We carry out the connection to the DB\n",
    "credentials = ast.literal_eval(open(r\"C:\\Users\\pvilas\\OneDrive - unizar.es\\Python Investigación\\credentials.txt\", \"r\").read())\n",
    "conn = psycopg2.connect(dbname='ESGRefinitiv', user=credentials['psycopg2'][0], \n",
    "                        password=credentials['psycopg2'][1], host=credentials['psycopg2'][2], port =credentials['psycopg2'][3])\n",
    "cur = conn.cursor()"
   ]
  },
  {
   "cell_type": "markdown",
   "metadata": {
    "ExecuteTime": {
     "end_time": "2020-07-18T14:17:37.249116Z",
     "start_time": "2020-07-18T14:17:37.241655Z"
    }
   },
   "source": [
    "<body> <p  style = \"font-family:georgia,garamond,serif;font-size:22px;text-align:justify\"></body>\n",
    "<b>a11_monthly_esg_clean</b></p>\n",
    "<body> <p  style = \"font-family:georgia,garamond,serif;font-size:16px;text-align:justify\"></body>\n",
    "The scores of this TABLE complies the following restrictitions: 1. Dates: between BDATE and TIME. 2 Not null vaules(NaN) in the overall and each pillar score. We add some information about country and industry.\n",
    "<br><b>Tables used:</b><br>\n",
    "monthly_esg <br>\n",
    "companies_esg_refinitiv <br>\n",
    "company_country <br>\n",
    "classification_ds_country <br>\n",
    "classification_icb_sector <br>\n",
    "classification_iso_country <br>"
   ]
  },
  {
   "cell_type": "code",
   "execution_count": 4,
   "metadata": {
    "ExecuteTime": {
     "end_time": "2022-02-08T09:10:52.145954Z",
     "start_time": "2022-02-08T09:10:49.472474Z"
    }
   },
   "outputs": [],
   "source": [
    "# A11 A11 A11\n",
    "cur.execute(\"\"\"\n",
    "DROP TABLE IF EXISTS\n",
    "    a11_monthly_esg_clean;\n",
    "CREATE TABLE\n",
    "    a11_monthly_esg_clean AS\n",
    "SELECT \n",
    "    info.internal_id, esg.monthly_date, esg.esg_score, esg.environment_pillar_score, esg.social_pillar_score,\n",
    "    esg.governance_pillar_score, icb.industry_name as industry,  icb.sector_name as sector, \n",
    "    ds_country.country_name as ds_country, ds_country.country_iso_id, iso.continent\n",
    "FROM \n",
    "    monthly_esg AS esg\n",
    "    INNER JOIN companies_esg_refinitiv AS info\n",
    "    ON esg.datastream_id = info.datastream_id\n",
    "    INNER JOIN company_country AS country\n",
    "    ON info.datastream_id = country.datastream_id\n",
    "    INNER JOIN classification_ds_country AS ds_country\n",
    "    ON country.ds_country_group_id = ds_country.country_ds_id    \n",
    "    INNER JOIN classification_icb_sector AS icb\n",
    "    ON info.icb_subsector_id = icb.subsector_id\n",
    "    INNER JOIN classification_iso_country AS iso\n",
    "    ON ds_country.country_iso_id= iso.country_iso_id\n",
    "WHERE \n",
    "    esg.monthly_date BETWEEN info.ds_first_value AND info.ds_last_value \n",
    "    AND (esg.esg_score,  esg.environment_pillar_score, esg.social_pillar_score,\n",
    "    esg.governance_pillar_score ) IS NOT NULL\n",
    "    \"\"\" )\n",
    "\n",
    "\n",
    "conn.commit()"
   ]
  },
  {
   "cell_type": "markdown",
   "metadata": {
    "ExecuteTime": {
     "end_time": "2020-08-01T15:41:02.300539Z",
     "start_time": "2020-08-01T15:41:01.905959Z"
    }
   },
   "source": [
    "<body> <p  style = \"font-family:georgia,garamond,serif;font-size:22px;text-align:justify\"></body>\n",
    "<b>a12_daily_mv_clean</b></p>\n",
    "<body> <p  style = \"font-family:georgia,garamond,serif;font-size:16px;text-align:justify\"></body>\n",
    "    The market value of this TABLE complies the following restrictions: 1 Dates: between BDATE and TIME. 2 Not null vaules(NaN) in MV column. We also get the total index return in USD dollars. \n",
    "<br><b> Tables used:</b><br>\n",
    "daily_market <br>\n",
    "companies_esg_refinitiv <br>\n",
    "classification_iso_currency  <br>\n",
    "exchange_rates <br>"
   ]
  },
  {
   "cell_type": "code",
   "execution_count": 8,
   "metadata": {
    "ExecuteTime": {
     "end_time": "2022-02-23T10:59:14.193317Z",
     "start_time": "2022-02-23T10:58:04.922417Z"
    }
   },
   "outputs": [],
   "source": [
    "cur.execute(\"\"\"\n",
    "DROP TABLE IF EXISTS\n",
    "    a12_daily_mv_clean;\n",
    "CREATE TABLE \n",
    "    a12_daily_mv_clean AS\n",
    "SELECT\n",
    "    info.internal_id, market.daily_date, market.total_return_index, market.datastream_id,\n",
    "    exchange_rates.exchange_rate, market.price_index, \n",
    "    market.ds_currency_symbol_id, market.total_return_index * exchange_rates.exchange_rate AS return_index_usd, CASE\n",
    "        WHEN market.mvc_usd > market.market_value_usd THEN market.mvc_usd\n",
    "        ELSE market.market_value_usd \n",
    "        END AS market_value_usd \n",
    "FROM \n",
    "    daily_market AS market\n",
    "    INNER JOIN companies_esg_refinitiv AS info\n",
    "    ON market.datastream_id = info.datastream_id\n",
    "    INNER JOIN classification_iso_currency \n",
    "    ON classification_iso_currency.ds_currency_symbol_id = market.ds_currency_symbol_id\n",
    "    INNER JOIN exchange_rates\n",
    "    ON classification_iso_currency.ds_currency_serie_usd_id = exchange_rates.ds_currency_serie_id AND \n",
    "    exchange_rates.daily_date_id = market.daily_date\n",
    "WHERE \n",
    "    market.daily_date BETWEEN info.ds_first_value AND info.ds_last_value \n",
    "    AND market.market_value_usd IS NOT NULL \n",
    "\n",
    "    \"\"\" )\n",
    "conn.commit()"
   ]
  },
  {
   "cell_type": "markdown",
   "metadata": {
    "ExecuteTime": {
     "end_time": "2020-08-01T11:03:11.847051Z",
     "start_time": "2020-08-01T11:03:11.388141Z"
    }
   },
   "source": [
    "<body> <p  style = \"font-family:georgia,garamond,serif;font-size:22px;text-align:justify\"></body>\n",
    "<b>a21_yearly_esg_mv</b></p>\n",
    "<body> <p  style = \"font-family:georgia,garamond,serif;font-size:16px;text-align:justify\"></body>\n",
    "Yearly average of each score stored in the TABLE <b>a11_monthly_esg_clean</b> and the yearly average of the market value in USD stored in the Table <b>a12_daily_mv_clean</b>.\n",
    "<b>Tables used:</b><br>\n",
    "a11_monthly_esg_clean <br>\n",
    "a12_daily_mv_clean <br>"
   ]
  },
  {
   "cell_type": "code",
   "execution_count": 7,
   "metadata": {
    "ExecuteTime": {
     "end_time": "2022-02-08T09:41:24.483280Z",
     "start_time": "2022-02-08T09:20:04.137771Z"
    }
   },
   "outputs": [],
   "source": [
    "# A21 A21 A21\n",
    "cur.execute(\"\"\"\n",
    "DROP TABLE IF EXISTS\n",
    "    a21_yearly_esg_mv;\n",
    "CREATE TABLE\n",
    "    a21_yearly_esg_mv AS\n",
    "SELECT \n",
    "    market.internal_id, EXTRACT(YEAR from market.daily_date) AS year, \n",
    "    AVG(market.market_value_usd)::NUMERIC(50,10) AS mv_usd_average,     \n",
    "    LN(AVG(market.market_value_usd))::NUMERIC(50,10) AS natural_log_mv_usd,\n",
    "    AVG(esg.esg_score)::NUMERIC(50,10) AS esg_score_average, \n",
    "    AVG(esg.environment_pillar_score)::NUMERIC(50,10) as environment_pillar_average,\n",
    "    AVG(esg.social_pillar_score)::NUMERIC(50,10) as social_pillar_average, \n",
    "    AVG(esg.governance_pillar_score)::NUMERIC(50,10) AS governance_pillar_average, \n",
    "    esg.industry, esg.sector, esg.ds_country, esg.country_iso_id, esg.continent\n",
    "FROM \n",
    "    a12_daily_mv_clean AS market\n",
    "    INNER JOIN a11_monthly_esg_clean AS esg\n",
    "    ON market.internal_id = esg.internal_id AND  EXTRACT(YEAR from market.daily_date) = EXTRACT(YEAR from esg.monthly_date)\n",
    "GROUP BY \n",
    "    market.internal_id, EXTRACT(YEAR from market.daily_date), esg.ds_country,  \n",
    "    esg.industry, esg.sector, esg.country_iso_id, esg.continent\n",
    "\"\"\")\n",
    "conn.commit()"
   ]
  },
  {
   "cell_type": "markdown",
   "metadata": {
    "ExecuteTime": {
     "end_time": "2020-08-01T13:18:46.456237Z",
     "start_time": "2020-08-01T13:18:46.063931Z"
    }
   },
   "source": [
    "<body> <p  style = \"font-family:georgia,garamond,serif;font-size:22px;text-align:justify\"></body>\n",
    "<b>a22_yearly_esg_mv_percentiles</b></p>\n",
    "<body> <p  style = \"font-family:georgia,garamond,serif;font-size:16px;text-align:justify\"></body>\n",
    "Idem as TABLE <b>a21_yearly_esg_mv</b>. We add a column that returns the yearly percentile rank of the mv_usd_average by year. <br>\n",
    "<b>Tables used:</b><br> \n",
    "a21_yearly_esg_mv : year"
   ]
  },
  {
   "cell_type": "code",
   "execution_count": 8,
   "metadata": {
    "ExecuteTime": {
     "end_time": "2022-02-08T09:41:26.020605Z",
     "start_time": "2022-02-08T09:41:24.494062Z"
    }
   },
   "outputs": [],
   "source": [
    "# A22 A22 A22\n",
    "cur.execute(\"\"\"\n",
    "DROP TABLE IF EXISTS\n",
    "    a22_yearly_esg_mv_percentiles;\n",
    "CREATE TABLE\n",
    "    a22_yearly_esg_mv_percentiles AS\n",
    "SELECT \n",
    "    year.internal_id, year.year, year.mv_usd_average, year.natural_log_mv_usd, \n",
    "    PERCENT_RANK() OVER(PARTITION BY (year) ORDER BY year.mv_usd_average) AS percent_rank_mv_usd,\n",
    "    year.esg_score_average, year.environment_pillar_average, year.social_pillar_average,\n",
    "    year.governance_pillar_average, year.industry, year.sector, year.ds_country, year.country_iso_id, \n",
    "    year.continent\n",
    "FROM \n",
    "    a21_yearly_esg_mv AS year\n",
    "\n",
    "\n",
    "\"\"\")\n",
    "# We multiply the columns of the percentile rank by 100\n",
    "cur.execute(\"\"\" \n",
    "    UPDATE a22_yearly_esg_mv_percentiles \n",
    "    SET percent_rank_mv_usd=percent_rank_mv_usd*100\n",
    "\"\"\")\n",
    "\n",
    "conn.commit()"
   ]
  }
 ],
 "metadata": {
  "hide_input": false,
  "kernelspec": {
   "display_name": "Python 3",
   "language": "python",
   "name": "python3"
  },
  "language_info": {
   "codemirror_mode": {
    "name": "ipython",
    "version": 3
   },
   "file_extension": ".py",
   "mimetype": "text/x-python",
   "name": "python",
   "nbconvert_exporter": "python",
   "pygments_lexer": "ipython3",
   "version": "3.8.0"
  },
  "toc": {
   "base_numbering": 1,
   "nav_menu": {},
   "number_sections": false,
   "sideBar": true,
   "skip_h1_title": false,
   "title_cell": "Table of Contents",
   "title_sidebar": "Contents",
   "toc_cell": false,
   "toc_position": {
    "height": "calc(100% - 180px)",
    "left": "10px",
    "top": "150px",
    "width": "165px"
   },
   "toc_section_display": true,
   "toc_window_display": true
  }
 },
 "nbformat": 4,
 "nbformat_minor": 2
}
