{
 "cells": [
  {
   "cell_type": "markdown",
   "metadata": {
    "ExecuteTime": {
     "end_time": "2021-04-26T05:32:23.726983Z",
     "start_time": "2021-04-26T05:32:22.264789Z"
    }
   },
   "source": [
    "## 4. Table 3, A1, A2\n",
    "<body> <p  style = \"font-family:georgia,garamond,serif;font-size:16px;text-align:justify\"></body>\n",
    "Code used to Create Table 3, Table A1 and Table A2"
   ]
  },
  {
   "cell_type": "code",
   "execution_count": 1,
   "metadata": {
    "ExecuteTime": {
     "end_time": "2022-03-05T17:49:30.400906Z",
     "start_time": "2022-03-05T17:49:29.370051Z"
    }
   },
   "outputs": [],
   "source": [
    "import ast\n",
    "import pandas as pd\n",
    "import numpy as np\n",
    "import matplotlib.pyplot as plt\n",
    "\n",
    "from sqlalchemy import create_engine\n",
    "from scipy import stats"
   ]
  },
  {
   "cell_type": "code",
   "execution_count": 2,
   "metadata": {
    "ExecuteTime": {
     "end_time": "2022-03-05T17:49:30.431898Z",
     "start_time": "2022-03-05T17:49:30.401887Z"
    },
    "code_folding": []
   },
   "outputs": [],
   "source": [
    "credentials = ast.literal_eval(open(r\"C:\\Users\\pvilas\\OneDrive - unizar.es\\Python Investigación\\credentials.txt\", \"r\").read())\n",
    "engine = create_engine(credentials['sqlalchemy'][0]+ 'ESGRefinitiv')\n",
    "\n",
    "path = r'C:\\Users\\pvilas\\OneDrive - unizar.es\\Tesis\\2022 ISP\\3. Tables & Figures\\3. Definitive'"
   ]
  },
  {
   "cell_type": "markdown",
   "metadata": {
    "ExecuteTime": {
     "end_time": "2021-02-09T22:30:14.789441Z",
     "start_time": "2021-02-09T22:30:14.698427Z"
    },
    "code_folding": []
   },
   "source": [
    "## Table 3\n",
    "<body> <p  style = \"font-family:georgia,garamond,serif;font-size:16px;text-align:justify\"></body>\n",
    "Correlation Matrix. "
   ]
  },
  {
   "cell_type": "code",
   "execution_count": 3,
   "metadata": {
    "ExecuteTime": {
     "end_time": "2022-03-05T17:49:31.732836Z",
     "start_time": "2022-03-05T17:49:30.434903Z"
    },
    "code_folding": [
     0,
     23
    ]
   },
   "outputs": [],
   "source": [
    "def significance(p_val):\n",
    "    if p_val <=0.05 and p_val > 0.01 :\n",
    "        significance = \"*\"\n",
    "    elif p_val <=0.01 and p_val > 0.001:\n",
    "        significance = \"**\"\n",
    "    elif p_val <=0.001 :\n",
    "        significance = \"**\"\n",
    "    else:\n",
    "        significance=\"\"\n",
    "    return significance\n",
    "\n",
    "from scipy.stats import pearsonr\n",
    "import numpy as np\n",
    "\n",
    "df_b31=pd.read_sql(\"SELECT * FROM b31_accounting_isp_ssp_winsorized\", engine)\n",
    "\n",
    "\n",
    "variables_analyzed =  ['return_on_assets', 'return_on_equity','log_net_sales_usd', 'log_total_assets_usd',\n",
    "                       'total_liabilities_to_equity','total_liabilities_to_assets','additions_fixed_assets_to_assets', \n",
    "    'esg_score_average', 'environment_pillar_average','social_pillar_average','governance_pillar_average',\n",
    "    \"overall_inclusive\", \"environmental_inclusive\", \"social_inclusive\", \"governance_inclusive\",\n",
    "    ]\n",
    "\n",
    "names = {\n",
    "    'return_on_assets': '(0) ROA', \n",
    "    'return_on_equity': '(1) ROE',\n",
    "    'esg_score_average': '(2) ESG Conventional', \n",
    "    'environment_pillar_average': '(3) Environmental Conv.',\n",
    "    'social_pillar_average': '(4) Social Conv.',\n",
    "    'governance_pillar_average': '(5) Governance Conv.',\n",
    "    'overall_inclusive': '(6) ESG Inclusive', \n",
    "    'environmental_inclusive': '(7) Environmental Incl.' , \n",
    "    'social_inclusive': '(8) Social Incl.', \n",
    "    'governance_inclusive' : '(9) Governance Incl',    \n",
    "    'log_net_sales_usd': '(10) Log Sales', \n",
    "    'log_total_assets_usd': '(11) Log Assets',\n",
    "    'total_liabilities_to_equity': '(12) Liabilities to Equity',\n",
    "    'total_liabilities_to_assets': '(13) Liabilities to Assets',\n",
    "    'additions_fixed_assets_to_assets': '(14) Capital Expenditures', \n",
    "\n",
    "}\n",
    "df_b31 = df_b31[names.keys()].dropna()\n",
    "\n",
    "df_corr = pd.DataFrame()\n",
    "for x in names.keys():\n",
    "    for y in names.keys():\n",
    "        corr = pearsonr(df_b31[x], df_b31[y])\n",
    "        df_corr.loc[x,y] = \"{:.2f}\".format(round(corr[0],2)) + significance(corr[1])\n",
    "\n",
    "df_corr.rename(columns=names, index=names, inplace=True)\n",
    "df_corr.columns = ['('+str(i)+')' for i in range(0, len(df_corr.columns))]\n",
    "df_corr.to_excel(path + '\\\\Table 3 CorrMatrix.xlsx')"
   ]
  },
  {
   "cell_type": "markdown",
   "metadata": {
    "ExecuteTime": {
     "end_time": "2021-02-09T22:30:15.841475Z",
     "start_time": "2021-02-09T22:30:14.792422Z"
    },
    "code_folding": []
   },
   "source": [
    "## Table A1\n",
    "<body> <p  style = \"font-family:georgia,garamond,serif;font-size:16px;text-align:justify\">\n",
    "Descriptive Descriptive statistics of the variables used in equation 5 and 6."
   ]
  },
  {
   "cell_type": "code",
   "execution_count": 4,
   "metadata": {
    "ExecuteTime": {
     "end_time": "2022-03-05T17:49:33.053003Z",
     "start_time": "2022-03-05T17:49:31.733837Z"
    },
    "code_folding": [
     16,
     34
    ]
   },
   "outputs": [],
   "source": [
    "df_b31 = pd.read_sql(\"b31_accounting_isp_ssp_winsorized\", engine)\n",
    "df_b31 = df_b31[(df_b31[\"year_accounting\"]> 2009) & (df_b31[\"year_accounting\"]<2020)]\n",
    "\n",
    "variables_analyzed =  ['return_on_assets', \n",
    "                       'return_on_equity',\n",
    "                       'log_net_sales_usd', \n",
    "                       'log_total_assets_usd',\n",
    "                       'total_liabilities_to_equity',\n",
    "                       'total_liabilities_to_assets',\n",
    "                       'additions_fixed_assets_to_assets', \n",
    "    'esg_score_average', 'environment_pillar_average','social_pillar_average','governance_pillar_average',\n",
    "    \"overall_inclusive\", \"environmental_inclusive\", \"social_inclusive\", \"governance_inclusive\",\n",
    "    ]\n",
    "\n",
    "statistics = [\"mean\", \"std\", \"min\", \"25%\", \"50%\", \"75%\", \"max\", \"count\" ] # \n",
    "\n",
    "round_columns = {\n",
    "    ('dependent variable',                              'ROA'): 2,\n",
    "    ('dependent variable',                              'ROE'): 3,\n",
    "    ( 'control variables',                        'Log Sales'): 3,\n",
    "    ( 'control variables',                       'Log Assets'): 3,\n",
    "    ( 'control variables',            'Liabilities to Equity'): 3,\n",
    "    ( 'control variables',            'Liabilities to Assets'): 3,\n",
    "    ( 'control variables', 'Additions Fixed Assets to Assets'): 3,\n",
    "    ( 'variable analyzed',                      'Overall Conventional'): 2,\n",
    "    ( 'variable analyzed',                'Environmental Conventional'): 2,\n",
    "    ( 'variable analyzed',                       'Social Conventional'): 2,\n",
    "    ( 'variable analyzed',                   'Governance Conventional'): 2,\n",
    "    ( 'variable analyzed',                      'Overall Inclusive'): 3,\n",
    "    ( 'variable analyzed',                'Environmental Inclusive'): 3,\n",
    "    ( 'variable analyzed',                       'Social Inclusive'): 3,\n",
    "    ( 'variable analyzed',                   'Governance Inclusive'): 3,    \n",
    "}\n",
    "\n",
    "columns_names_order = {\n",
    "    ('dependent variable',                              'ROA'): ('dependent variable',                              'ROA'),\n",
    "    ('dependent variable',                              'ROE'): ('dependent variable',                              'ROE'),\n",
    "    ( 'control variables',                    'log net sales'): ( 'control variables',                'log net sales'),\n",
    "    ( 'control variables',                 'log total assets'): ( 'control variables',             'log total assets usd'),\n",
    "    ( 'control variables',      'total liabilities to equity'): ( 'control variables',      'total liabilities to equity'),   \n",
    "    ( 'control variables',      'total liabilities to assets'): ( 'control variables',      'total liabilities to assets'),  \n",
    "    ( 'control variables', 'additions fixed assets to assets'): ( 'control variables', 'additions fixed assets to assets'),    \n",
    "    ( 'variable analyzed',             'Overall Conventional'): ( 'variable analyzed',             'Overall Conventional'),\n",
    "    ( 'variable analyzed',       'Environmental Conventional'): ( 'variable analyzed',       'Environmental Conventional'),\n",
    "    ( 'variable analyzed',              'Social Conventional'): ( 'variable analyzed',              'Social Conventional'),\n",
    "    ( 'variable analyzed',          'Governance Conventional'): ( 'variable analyzed',          'Governance Conventional'),        \n",
    "    ( 'variable analyzed',                'Overall Inclusive'): ( 'variable analyzed',                'Overall Inclusive'),\n",
    "    ( 'variable analyzed',          'Environmental Inclusive'): ( 'variable analyzed',          'Environmental Inclusive'),\n",
    "    ( 'variable analyzed',                 'Social Inclusive'): ( 'variable analyzed',                 'Social Inclusive'),\n",
    "    ( 'variable analyzed',             'Governance Inclusive'): ( 'variable analyzed',             'Governance Inclusive') \n",
    "    \n",
    "}"
   ]
  },
  {
   "cell_type": "code",
   "execution_count": 5,
   "metadata": {
    "ExecuteTime": {
     "end_time": "2022-03-05T17:49:33.162968Z",
     "start_time": "2022-03-05T17:49:33.054003Z"
    },
    "code_folding": [
     4
    ]
   },
   "outputs": [],
   "source": [
    "df_observations = df_b31[variables_analyzed].dropna()\n",
    "df_observations = df_observations.describe()\n",
    "df_observations.columns = columns_names_order\n",
    "df_observations = df_observations.T.loc[:, statistics]\n",
    "              \n",
    "# order the level of the first multindex    \n",
    "df_observations = df_observations.reindex(['dependent variable', 'variable analyzed',  'control variables',], level = 0)\n",
    "df_observations = df_observations.T.round(round_columns).T # round\n",
    "\n",
    "for col in df_observations.columns:\n",
    "    df_observations[col] = df_observations[col].map('{:.3f}'.format).astype('str')\n",
    "\n",
    "df_observations.to_excel(path+'\\\\Table A1 descriptive.xlsx')"
   ]
  },
  {
   "cell_type": "markdown",
   "metadata": {
    "ExecuteTime": {
     "end_time": "2021-02-09T22:30:14.789441Z",
     "start_time": "2021-02-09T22:30:14.698427Z"
    },
    "code_folding": []
   },
   "source": [
    "## Table A2\n",
    "<body> <p  style = \"font-family:georgia,garamond,serif;font-size:16px;text-align:justify\"></body>\n",
    "<strong> Variance Inflation Factor </strong> of the regressions used to test the influence of conventional and inclusive ratings on CFP"
   ]
  },
  {
   "cell_type": "code",
   "execution_count": 6,
   "metadata": {
    "ExecuteTime": {
     "end_time": "2022-03-05T17:49:34.440063Z",
     "start_time": "2022-03-05T17:49:33.164967Z"
    },
    "code_folding": []
   },
   "outputs": [],
   "source": [
    "from statsmodels.stats.outliers_influence import variance_inflation_factor\n",
    "\n",
    "df = pd.read_sql('b31_accounting_isp_ssp_winsorized', engine)\n",
    "df['constant']=1\n",
    "\n",
    "\n",
    "models = {'model_1' : ['log_net_sales_usd', 'total_liabilities_to_assets', 'additions_fixed_assets_to_assets', 'constant'],\n",
    "          'model_2' :['log_total_assets_usd', 'total_liabilities_to_equity', 'additions_fixed_assets_to_assets', 'constant']\n",
    "         }\n",
    " \n",
    "all_scores = {'coventional' : [['esg_score_average'], ['environment_pillar_average'], \n",
    "                       ['social_pillar_average'], ['governance_pillar_average']],\n",
    "'inclusive' : [['overall_inclusive'], ['environmental_inclusive'], ['social_inclusive'], ['governance_inclusive']] }"
   ]
  },
  {
   "cell_type": "code",
   "execution_count": 7,
   "metadata": {
    "ExecuteTime": {
     "end_time": "2022-03-05T17:49:35.631685Z",
     "start_time": "2022-03-05T17:49:34.441064Z"
    },
    "code_folding": [
     25
    ]
   },
   "outputs": [],
   "source": [
    "# Create the multindex to store the results of the VIF\n",
    "columns_vif=[]\n",
    "for model in models:\n",
    "    for var in ['score']+models[model]:\n",
    "        columns_vif.append((model,var))\n",
    "index_vif =[]\n",
    "for score_type in all_scores:\n",
    "    for score in all_scores[score_type]:\n",
    "        index_vif.append((score_type, *score))\n",
    "        \n",
    "df_vif_results = pd.DataFrame(columns=pd.MultiIndex.from_tuples(columns_vif, names = ['model', 'exog']), \n",
    "                              index=pd.MultiIndex.from_tuples(index_vif, names=['type', 'study variable']))\n",
    "# Get VIF values\n",
    "for model in models:\n",
    "    for score_type in all_scores:\n",
    "        for score in all_scores[score_type]:\n",
    "            exog =  score + models[model]\n",
    "            df_vif = df[exog].dropna().copy()\n",
    "            df_vif.rename(columns={score[0]:'score'}, inplace=True)\n",
    "            # get the VIF of each endog in the regression\n",
    "            for var in df_vif.columns:\n",
    "                df_vif_results.loc[(score_type,score),(model,var)] =\"%.3f\" % np.round(variance_inflation_factor(df_vif.values,\n",
    "                                                                                      list(df_vif.columns).index(var) ) ,3)\n",
    "#             df_vif_results.loc[(score_type, score), (model)] = [variance_inflation_factor(df_vif.values, i) \n",
    "#                                       for i in range(len(df_vif.columns))] \n",
    "var_names =        [ ['return_on_assets', 'ROA'],\n",
    "                     ['return_on_equity', 'ROE'],\n",
    "                     ['log_net_sales_usd', 'Log Sales'],\n",
    "                     ['log_total_assets_usd','Log Assets'],\n",
    "                     ['total_liabilities_to_equity', 'Liabilities to Equity'],\n",
    "                     ['total_liabilities_to_assets', 'Liabilities to Assets'],\n",
    "                     ['additions_fixed_assets_to_assets', 'Additions Fixed Assets to Assets'],\n",
    "                     ['esg_score_average', 'ESG Conventional'], \n",
    "                     ['environment_pillar_average', 'Environmental Conv.'],\n",
    "                     ['social_pillar_average', 'Social Conv.'],\n",
    "                     ['governance_pillar_average', 'Governance Conv.'],\n",
    "                     ['overall_inclusive', 'ESG Incl.'],\n",
    "                     ['environmental_inclusive', 'Environmental Incl.'],\n",
    "                     ['social_inclusive', 'Social Incl.'],\n",
    "                     ['governance_inclusive', 'Governance Incl.'] ,\n",
    "                   ]  # Variable name in database and name in the paper\n",
    "\n",
    "\n",
    "for var in var_names:\n",
    "    df_vif_results = df_vif_results.rename(index={var[0]: var[1]}, columns= {var[0]: var[1]})\n",
    "df_vif_results.to_excel(path+'\\\\Table A2 VIF.xlsx')"
   ]
  }
 ],
 "metadata": {
  "hide_input": false,
  "kernelspec": {
   "display_name": "Python 3",
   "language": "python",
   "name": "python3"
  },
  "language_info": {
   "codemirror_mode": {
    "name": "ipython",
    "version": 3
   },
   "file_extension": ".py",
   "mimetype": "text/x-python",
   "name": "python",
   "nbconvert_exporter": "python",
   "pygments_lexer": "ipython3",
   "version": "3.8.0"
  },
  "toc": {
   "base_numbering": 1,
   "nav_menu": {},
   "number_sections": false,
   "sideBar": true,
   "skip_h1_title": false,
   "title_cell": "Table of Contents",
   "title_sidebar": "Contents",
   "toc_cell": false,
   "toc_position": {},
   "toc_section_display": true,
   "toc_window_display": true
  }
 },
 "nbformat": 4,
 "nbformat_minor": 2
}
