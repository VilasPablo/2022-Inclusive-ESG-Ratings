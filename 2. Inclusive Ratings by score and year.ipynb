{
 "cells": [
  {
   "cell_type": "markdown",
   "metadata": {},
   "source": [
    "##  2. Inclusive Ratings by score and year\n",
    "<body> <p  style = \"font-family:georgia,garamond,serif;font-size:16px;text-align:justify\"></body> \n",
    "We store in our PostgreSQL database the residual of the regression (inclusive rating) for each score on yearly basis according to equation 1 of the research."
   ]
  },
  {
   "cell_type": "code",
   "execution_count": 1,
   "metadata": {
    "ExecuteTime": {
     "end_time": "2022-03-05T17:37:55.446542Z",
     "start_time": "2022-03-05T17:37:53.988420Z"
    }
   },
   "outputs": [],
   "source": [
    "import pandas as pd\n",
    "import statsmodels.api as sm\n",
    "import statsmodels.formula.api as smf\n",
    "import plotly.express as px\n",
    "from sqlalchemy import create_engine \n",
    "import ast"
   ]
  },
  {
   "cell_type": "code",
   "execution_count": 2,
   "metadata": {
    "ExecuteTime": {
     "end_time": "2022-03-05T17:37:56.397929Z",
     "start_time": "2022-03-05T17:37:55.448708Z"
    }
   },
   "outputs": [],
   "source": [
    "credentials = ast.literal_eval(open(r\"C:\\Users\\pvilas\\OneDrive - unizar.es\\Python Investigación\\credentials.txt\", \"r\").read())\n",
    "engine = create_engine(credentials['sqlalchemy'][0]+ 'ESGRefinitiv')\n",
    "\n",
    "df_a22 = pd.read_sql(\"SELECT * FROM a22_yearly_esg_mv_percentiles WHERE year BETWEEN 2010 AND 2019\", engine)\n",
    "\n",
    "conv_ratings = [\"esg_score_average\", \"environment_pillar_average\", \"social_pillar_average\", \"governance_pillar_average\"]\n",
    "years = set(df_a22['year'])\n",
    "\n",
    "# the name of our Inclusive ratings\n",
    "incl_ratings = ['overall_inclusive', 'environmental_inclusive', 'social_inclusive', 'governance_inclusive']\n",
    "\n",
    "# Nª of companies by year & country\n",
    "df_a22 = df_a22.groupby(['year', 'ds_country'])[['esg_score_average']].count().rename(columns={\n",
    "    'esg_score_average':'n_firms'}).reset_index().merge(df_a22, on=['year', 'ds_country'])"
   ]
  },
  {
   "cell_type": "code",
   "execution_count": 3,
   "metadata": {
    "ExecuteTime": {
     "end_time": "2022-03-05T17:38:09.677890Z",
     "start_time": "2022-03-05T17:37:56.399948Z"
    }
   },
   "outputs": [
    {
     "data": {
      "text/html": [
       "<div>\n",
       "<style scoped>\n",
       "    .dataframe tbody tr th:only-of-type {\n",
       "        vertical-align: middle;\n",
       "    }\n",
       "\n",
       "    .dataframe tbody tr th {\n",
       "        vertical-align: top;\n",
       "    }\n",
       "\n",
       "    .dataframe thead th {\n",
       "        text-align: right;\n",
       "    }\n",
       "</style>\n",
       "<table border=\"1\" class=\"dataframe\">\n",
       "  <thead>\n",
       "    <tr style=\"text-align: right;\">\n",
       "      <th></th>\n",
       "      <th>2010</th>\n",
       "      <th>2011</th>\n",
       "      <th>2012</th>\n",
       "      <th>2013</th>\n",
       "      <th>2014</th>\n",
       "      <th>2015</th>\n",
       "      <th>2016</th>\n",
       "      <th>2017</th>\n",
       "      <th>2018</th>\n",
       "      <th>2019</th>\n",
       "    </tr>\n",
       "  </thead>\n",
       "  <tbody>\n",
       "    <tr>\n",
       "      <th>overall_inclusive</th>\n",
       "      <td>0.381</td>\n",
       "      <td>0.371</td>\n",
       "      <td>0.348</td>\n",
       "      <td>0.356</td>\n",
       "      <td>0.347</td>\n",
       "      <td>0.366</td>\n",
       "      <td>0.396</td>\n",
       "      <td>0.405</td>\n",
       "      <td>0.393</td>\n",
       "      <td>0.418</td>\n",
       "    </tr>\n",
       "    <tr>\n",
       "      <th>environmental_inclusive</th>\n",
       "      <td>0.412</td>\n",
       "      <td>0.399</td>\n",
       "      <td>0.380</td>\n",
       "      <td>0.382</td>\n",
       "      <td>0.383</td>\n",
       "      <td>0.423</td>\n",
       "      <td>0.468</td>\n",
       "      <td>0.481</td>\n",
       "      <td>0.452</td>\n",
       "      <td>0.474</td>\n",
       "    </tr>\n",
       "    <tr>\n",
       "      <th>social_inclusive</th>\n",
       "      <td>0.390</td>\n",
       "      <td>0.382</td>\n",
       "      <td>0.361</td>\n",
       "      <td>0.368</td>\n",
       "      <td>0.360</td>\n",
       "      <td>0.357</td>\n",
       "      <td>0.367</td>\n",
       "      <td>0.387</td>\n",
       "      <td>0.382</td>\n",
       "      <td>0.412</td>\n",
       "    </tr>\n",
       "    <tr>\n",
       "      <th>governance_inclusive</th>\n",
       "      <td>0.120</td>\n",
       "      <td>0.126</td>\n",
       "      <td>0.118</td>\n",
       "      <td>0.119</td>\n",
       "      <td>0.101</td>\n",
       "      <td>0.113</td>\n",
       "      <td>0.130</td>\n",
       "      <td>0.128</td>\n",
       "      <td>0.131</td>\n",
       "      <td>0.140</td>\n",
       "    </tr>\n",
       "    <tr>\n",
       "      <th>#_countries</th>\n",
       "      <td>44</td>\n",
       "      <td>45</td>\n",
       "      <td>45</td>\n",
       "      <td>45</td>\n",
       "      <td>47</td>\n",
       "      <td>50</td>\n",
       "      <td>52</td>\n",
       "      <td>54</td>\n",
       "      <td>54</td>\n",
       "      <td>54</td>\n",
       "    </tr>\n",
       "    <tr>\n",
       "      <th>observations</th>\n",
       "      <td>3815</td>\n",
       "      <td>3947</td>\n",
       "      <td>4003</td>\n",
       "      <td>4116</td>\n",
       "      <td>4372</td>\n",
       "      <td>5240</td>\n",
       "      <td>6006</td>\n",
       "      <td>6543</td>\n",
       "      <td>7377</td>\n",
       "      <td>8070</td>\n",
       "    </tr>\n",
       "  </tbody>\n",
       "</table>\n",
       "</div>"
      ],
      "text/plain": [
       "                          2010   2011   2012   2013   2014   2015   2016  \\\n",
       "overall_inclusive        0.381  0.371  0.348  0.356  0.347  0.366  0.396   \n",
       "environmental_inclusive  0.412  0.399  0.380  0.382  0.383  0.423  0.468   \n",
       "social_inclusive         0.390  0.382  0.361  0.368  0.360  0.357  0.367   \n",
       "governance_inclusive     0.120  0.126  0.118  0.119  0.101  0.113  0.130   \n",
       "#_countries                 44     45     45     45     47     50     52   \n",
       "observations              3815   3947   4003   4116   4372   5240   6006   \n",
       "\n",
       "                          2017   2018   2019  \n",
       "overall_inclusive        0.405  0.393  0.418  \n",
       "environmental_inclusive  0.481  0.452  0.474  \n",
       "social_inclusive         0.387  0.382  0.412  \n",
       "governance_inclusive     0.128  0.131  0.140  \n",
       "#_countries                 54     54     54  \n",
       "observations              6543   7377   8070  "
      ]
     },
     "execution_count": 3,
     "metadata": {},
     "output_type": "execute_result"
    }
   ],
   "source": [
    "df_a22.dropna(subset=['ds_country','industry','percent_rank_mv_usd']+conv_ratings, inplace=True)\n",
    "# companies belonging to a country with less than 4 ESG-rated companies are excluded\n",
    "df_a22 = df_a22[df_a22['n_firms']>=4].reset_index(drop=True) \n",
    "table_inclusive = pd.DataFrame() # pAPER tABLE 2\n",
    "\n",
    "for conv_rating, incl_rating in zip(conv_ratings, incl_ratings):\n",
    "    \n",
    "    df_resids =pd.DataFrame()\n",
    "    for year in (years):\n",
    "        res = smf.ols(('%s ~ percent_rank_mv_usd + C(ds_country) + C(industry)' % conv_rating), \n",
    "                      data=df_a22[df_a22['year']== year]).fit()\n",
    "        df_resids= pd.concat([df_resids, res.resid])\n",
    "        # Table Info\n",
    "        table_inclusive.loc[incl_rating, int(year)] = '{:.3f}'.format(res.rsquared.round(3))\n",
    "        if incl_rating == \"governance_inclusive\":\n",
    "            table_inclusive.loc['#_countries', year] = str(len(df_a22[df_a22['year']== year]['ds_country'].unique()))\n",
    "            table_inclusive.loc['observations', year] = str(int(res.nobs))\n",
    "            \n",
    "    # Introduce the resids\n",
    "    df_a22[incl_rating] = df_resids\n",
    "                   \n",
    "df_a22.to_sql(\"b21_isp_ssp_esg_mv\", engine, if_exists='replace', chunksize=100000, index=False)\n",
    "table_inclusive.sort_index(axis=1).to_excel(\n",
    "    r'C:\\Users\\pvilas\\OneDrive - unizar.es\\Tesis\\2022 ISP\\3. Tables & Figures\\3. Definitive\\Table 2.xlsx') \n",
    "table_inclusive.sort_index(axis=1)"
   ]
  },
  {
   "cell_type": "code",
   "execution_count": null,
   "metadata": {
    "ExecuteTime": {
     "end_time": "2022-02-17T09:17:15.405848Z",
     "start_time": "2022-02-17T09:17:15.381757Z"
    }
   },
   "outputs": [],
   "source": []
  },
  {
   "cell_type": "code",
   "execution_count": null,
   "metadata": {
    "ExecuteTime": {
     "end_time": "2022-02-17T09:15:13.434969Z",
     "start_time": "2022-02-17T09:15:13.406973Z"
    }
   },
   "outputs": [],
   "source": []
  },
  {
   "cell_type": "code",
   "execution_count": null,
   "metadata": {
    "ExecuteTime": {
     "end_time": "2022-02-17T11:17:17.618671Z",
     "start_time": "2022-02-17T11:17:16.981581Z"
    }
   },
   "outputs": [],
   "source": []
  }
 ],
 "metadata": {
  "hide_input": false,
  "kernelspec": {
   "display_name": "Python 3",
   "language": "python",
   "name": "python3"
  },
  "language_info": {
   "codemirror_mode": {
    "name": "ipython",
    "version": 3
   },
   "file_extension": ".py",
   "mimetype": "text/x-python",
   "name": "python",
   "nbconvert_exporter": "python",
   "pygments_lexer": "ipython3",
   "version": "3.8.0"
  },
  "toc": {
   "base_numbering": 1,
   "nav_menu": {},
   "number_sections": false,
   "sideBar": true,
   "skip_h1_title": false,
   "title_cell": "Table of Contents",
   "title_sidebar": "Contents",
   "toc_cell": false,
   "toc_position": {},
   "toc_section_display": true,
   "toc_window_display": true
  }
 },
 "nbformat": 4,
 "nbformat_minor": 2
}
